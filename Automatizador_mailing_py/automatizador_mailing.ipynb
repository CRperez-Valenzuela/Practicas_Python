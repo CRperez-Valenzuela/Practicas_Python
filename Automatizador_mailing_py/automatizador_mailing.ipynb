{
 "cells": [
  {
   "cell_type": "markdown",
   "id": "4a776059",
   "metadata": {},
   "source": [
    "# Automatizador de webscrapping y mailing\n",
    "\n",
    "Se instalan librerias necesarias\n",
    "\n",
    "!pip install yfinance webscrapping yahoo finance\n",
    "\n",
    "!pip install matplotlib cálculos matemáticos y gráficos\n",
    "\n",
    "!pip install pyautogui manejo de mouse y teclado\n"
   ]
  },
  {
   "cell_type": "markdown",
   "id": "2edf0f02",
   "metadata": {},
   "source": [
    "# Obtención de data con input de usuario\n",
    "\n",
    "se importa yfinance\n",
    "\n",
    "se crean variables para los datos que obtendremos del webscrapping"
   ]
  },
  {
   "cell_type": "code",
   "execution_count": 2,
   "id": "e5d517b0",
   "metadata": {},
   "outputs": [
    {
     "data": {
      "text/html": [
       "<div>\n",
       "<style scoped>\n",
       "    .dataframe tbody tr th:only-of-type {\n",
       "        vertical-align: middle;\n",
       "    }\n",
       "\n",
       "    .dataframe tbody tr th {\n",
       "        vertical-align: top;\n",
       "    }\n",
       "\n",
       "    .dataframe thead th {\n",
       "        text-align: right;\n",
       "    }\n",
       "</style>\n",
       "<table border=\"1\" class=\"dataframe\">\n",
       "  <thead>\n",
       "    <tr style=\"text-align: right;\">\n",
       "      <th></th>\n",
       "      <th>Open</th>\n",
       "      <th>High</th>\n",
       "      <th>Low</th>\n",
       "      <th>Close</th>\n",
       "      <th>Volume</th>\n",
       "      <th>Dividends</th>\n",
       "      <th>Stock Splits</th>\n",
       "    </tr>\n",
       "    <tr>\n",
       "      <th>Date</th>\n",
       "      <th></th>\n",
       "      <th></th>\n",
       "      <th></th>\n",
       "      <th></th>\n",
       "      <th></th>\n",
       "      <th></th>\n",
       "      <th></th>\n",
       "    </tr>\n",
       "  </thead>\n",
       "  <tbody>\n",
       "    <tr>\n",
       "      <th>2024-10-01 00:00:00-04:00</th>\n",
       "      <td>228.716036</td>\n",
       "      <td>228.845571</td>\n",
       "      <td>222.956284</td>\n",
       "      <td>225.417633</td>\n",
       "      <td>63285000</td>\n",
       "      <td>0.00</td>\n",
       "      <td>0.0</td>\n",
       "    </tr>\n",
       "    <tr>\n",
       "      <th>2024-10-02 00:00:00-04:00</th>\n",
       "      <td>225.098744</td>\n",
       "      <td>226.573556</td>\n",
       "      <td>222.238802</td>\n",
       "      <td>225.985626</td>\n",
       "      <td>32880600</td>\n",
       "      <td>0.00</td>\n",
       "      <td>0.0</td>\n",
       "    </tr>\n",
       "    <tr>\n",
       "      <th>2024-10-03 00:00:00-04:00</th>\n",
       "      <td>224.351374</td>\n",
       "      <td>226.015523</td>\n",
       "      <td>222.537757</td>\n",
       "      <td>224.879517</td>\n",
       "      <td>34044200</td>\n",
       "      <td>0.00</td>\n",
       "      <td>0.0</td>\n",
       "    </tr>\n",
       "    <tr>\n",
       "      <th>2024-10-04 00:00:00-04:00</th>\n",
       "      <td>227.101692</td>\n",
       "      <td>227.201348</td>\n",
       "      <td>223.344909</td>\n",
       "      <td>226.005554</td>\n",
       "      <td>37245100</td>\n",
       "      <td>0.00</td>\n",
       "      <td>0.0</td>\n",
       "    </tr>\n",
       "    <tr>\n",
       "      <th>2024-10-07 00:00:00-04:00</th>\n",
       "      <td>223.713622</td>\n",
       "      <td>224.899456</td>\n",
       "      <td>220.554728</td>\n",
       "      <td>220.913467</td>\n",
       "      <td>39505400</td>\n",
       "      <td>0.00</td>\n",
       "      <td>0.0</td>\n",
       "    </tr>\n",
       "    <tr>\n",
       "      <th>...</th>\n",
       "      <td>...</td>\n",
       "      <td>...</td>\n",
       "      <td>...</td>\n",
       "      <td>...</td>\n",
       "      <td>...</td>\n",
       "      <td>...</td>\n",
       "      <td>...</td>\n",
       "    </tr>\n",
       "    <tr>\n",
       "      <th>2025-05-08 00:00:00-04:00</th>\n",
       "      <td>197.461064</td>\n",
       "      <td>199.788014</td>\n",
       "      <td>194.425036</td>\n",
       "      <td>197.231369</td>\n",
       "      <td>50478900</td>\n",
       "      <td>0.00</td>\n",
       "      <td>0.0</td>\n",
       "    </tr>\n",
       "    <tr>\n",
       "      <th>2025-05-09 00:00:00-04:00</th>\n",
       "      <td>198.739390</td>\n",
       "      <td>200.277366</td>\n",
       "      <td>197.281295</td>\n",
       "      <td>198.270004</td>\n",
       "      <td>36453900</td>\n",
       "      <td>0.00</td>\n",
       "      <td>0.0</td>\n",
       "    </tr>\n",
       "    <tr>\n",
       "      <th>2025-05-12 00:00:00-04:00</th>\n",
       "      <td>210.970001</td>\n",
       "      <td>211.270004</td>\n",
       "      <td>206.750000</td>\n",
       "      <td>210.789993</td>\n",
       "      <td>63775800</td>\n",
       "      <td>0.26</td>\n",
       "      <td>0.0</td>\n",
       "    </tr>\n",
       "    <tr>\n",
       "      <th>2025-05-13 00:00:00-04:00</th>\n",
       "      <td>210.429993</td>\n",
       "      <td>213.399994</td>\n",
       "      <td>209.000000</td>\n",
       "      <td>212.929993</td>\n",
       "      <td>51909300</td>\n",
       "      <td>0.00</td>\n",
       "      <td>0.0</td>\n",
       "    </tr>\n",
       "    <tr>\n",
       "      <th>2025-05-14 00:00:00-04:00</th>\n",
       "      <td>212.429993</td>\n",
       "      <td>213.940002</td>\n",
       "      <td>210.580002</td>\n",
       "      <td>212.330002</td>\n",
       "      <td>49325800</td>\n",
       "      <td>0.00</td>\n",
       "      <td>0.0</td>\n",
       "    </tr>\n",
       "  </tbody>\n",
       "</table>\n",
       "<p>155 rows × 7 columns</p>\n",
       "</div>"
      ],
      "text/plain": [
       "                                 Open        High         Low       Close  \\\n",
       "Date                                                                        \n",
       "2024-10-01 00:00:00-04:00  228.716036  228.845571  222.956284  225.417633   \n",
       "2024-10-02 00:00:00-04:00  225.098744  226.573556  222.238802  225.985626   \n",
       "2024-10-03 00:00:00-04:00  224.351374  226.015523  222.537757  224.879517   \n",
       "2024-10-04 00:00:00-04:00  227.101692  227.201348  223.344909  226.005554   \n",
       "2024-10-07 00:00:00-04:00  223.713622  224.899456  220.554728  220.913467   \n",
       "...                               ...         ...         ...         ...   \n",
       "2025-05-08 00:00:00-04:00  197.461064  199.788014  194.425036  197.231369   \n",
       "2025-05-09 00:00:00-04:00  198.739390  200.277366  197.281295  198.270004   \n",
       "2025-05-12 00:00:00-04:00  210.970001  211.270004  206.750000  210.789993   \n",
       "2025-05-13 00:00:00-04:00  210.429993  213.399994  209.000000  212.929993   \n",
       "2025-05-14 00:00:00-04:00  212.429993  213.940002  210.580002  212.330002   \n",
       "\n",
       "                             Volume  Dividends  Stock Splits  \n",
       "Date                                                          \n",
       "2024-10-01 00:00:00-04:00  63285000       0.00           0.0  \n",
       "2024-10-02 00:00:00-04:00  32880600       0.00           0.0  \n",
       "2024-10-03 00:00:00-04:00  34044200       0.00           0.0  \n",
       "2024-10-04 00:00:00-04:00  37245100       0.00           0.0  \n",
       "2024-10-07 00:00:00-04:00  39505400       0.00           0.0  \n",
       "...                             ...        ...           ...  \n",
       "2025-05-08 00:00:00-04:00  50478900       0.00           0.0  \n",
       "2025-05-09 00:00:00-04:00  36453900       0.00           0.0  \n",
       "2025-05-12 00:00:00-04:00  63775800       0.26           0.0  \n",
       "2025-05-13 00:00:00-04:00  51909300       0.00           0.0  \n",
       "2025-05-14 00:00:00-04:00  49325800       0.00           0.0  \n",
       "\n",
       "[155 rows x 7 columns]"
      ]
     },
     "execution_count": 2,
     "metadata": {},
     "output_type": "execute_result"
    }
   ],
   "source": [
    "import yfinance\n",
    "\n",
    "ticker = input(\"digite el código de la accion: \")\n",
    "fecha_inicio = input(\"digite la fecha de inicio (aaaa-mm-dd): \")\n",
    "fecha_cierre = input(\"digite la fecha de cierre (aaaa-mm-dd): \")\n",
    "\n",
    "datos_yfinance = yfinance.Ticker(ticker)\n",
    "datos_historicos = datos_yfinance.history(start=fecha_inicio, end=fecha_cierre)\n",
    "datos_historicos"
   ]
  },
  {
   "cell_type": "markdown",
   "id": "518f6699",
   "metadata": {},
   "source": [
    "# Uso extra de matplotlib \n",
    "\n",
    "Gráfico de periodo de cierre\n"
   ]
  },
  {
   "cell_type": "code",
   "execution_count": 5,
   "id": "9b9d221c",
   "metadata": {},
   "outputs": [
    {
     "data": {
      "text/plain": [
       "Date\n",
       "2025-01-02 00:00:00-05:00    243.263199\n",
       "2025-01-03 00:00:00-05:00    242.774368\n",
       "2025-01-06 00:00:00-05:00    244.410416\n",
       "2025-01-07 00:00:00-05:00    241.627136\n",
       "2025-01-08 00:00:00-05:00    242.115952\n",
       "                                ...    \n",
       "2025-05-07 00:00:00-04:00    195.992981\n",
       "2025-05-08 00:00:00-04:00    197.231369\n",
       "2025-05-09 00:00:00-04:00    198.270004\n",
       "2025-05-12 00:00:00-04:00    210.789993\n",
       "2025-05-13 00:00:00-04:00    212.929993\n",
       "Name: Close, Length: 90, dtype: float64"
      ]
     },
     "execution_count": 5,
     "metadata": {},
     "output_type": "execute_result"
    }
   ],
   "source": [
    "cierre = datos_historicos.Close\n",
    "cierre\n"
   ]
  },
  {
   "cell_type": "code",
   "execution_count": 6,
   "id": "0829e55a",
   "metadata": {},
   "outputs": [
    {
     "data": {
      "text/plain": [
       "<Axes: xlabel='Date'>"
      ]
     },
     "execution_count": 6,
     "metadata": {},
     "output_type": "execute_result"
    },
    {
     "data": {
      "image/png": "[encoded data removed]",
      "text/plain": [
       "<Figure size 640x480 with 1 Axes>"
      ]
     },
     "metadata": {},
     "output_type": "display_data"
    }
   ],
   "source": [
    "cierre.plot()\n"
   ]
  },
  {
   "cell_type": "markdown",
   "id": "0f5ec971",
   "metadata": {},
   "source": [
    "# analisis estadístico simple\n",
    "\n",
    "mínima min(), round() cantidad de decimales visibles\n",
    "\n",
    "máxima max() round() cantidad de decimales visibles\n",
    "\n",
    "media mean() round() cantidad de decimales visibles"
   ]
  },
  {
   "cell_type": "code",
   "execution_count": 8,
   "id": "1f9425bb",
   "metadata": {},
   "outputs": [
    {
     "name": "stdout",
     "output_type": "stream",
     "text": [
      "172.19\n",
      "246.78\n",
      "221.39\n"
     ]
    }
   ],
   "source": [
    "minima = round (cierre.min(), 2)\n",
    "maxima = round (cierre.max(), 2)\n",
    "promedio = round (cierre.mean(), 2)\n",
    "\n",
    "print(minima)\n",
    "print(maxima)\n",
    "print(promedio)"
   ]
  },
  {
   "cell_type": "markdown",
   "id": "2b80f777",
   "metadata": {},
   "source": [
    "# automatización de mailing\n",
    "\n",
    "se usan coordenadas en pantalla con eje cartesiano similar al que se usa para insertar datos en pdf. El eje x es horizontal y el eje y es vertical. Esto varía según tamaños de pantallas.\n",
    "\n",
    "se usa función nativa de python time y pyautogui.position para señalar la posicion del puntero en pantalla.\n",
    "\n",
    "redactar = Point(x=87, y=217)"
   ]
  },
  {
   "cell_type": "code",
   "execution_count": 13,
   "id": "36408904",
   "metadata": {},
   "outputs": [
    {
     "name": "stdout",
     "output_type": "stream",
     "text": [
      "Point(x=1254, y=1006)\n"
     ]
    }
   ],
   "source": [
    "import time\n",
    "import pyautogui\n",
    "\n",
    "time.sleep(5)\n",
    "print(pyautogui.position())"
   ]
  },
  {
   "cell_type": "markdown",
   "id": "b938015b",
   "metadata": {},
   "source": [
    "# Template del mail y pasos para automatizar el envío\n",
    "\n",
    "se importa pyperclip y webbrowser. La primera es para guardar copias en el portapapeles y la segunda para abrir el navegador por defecto, ambas nativas de python\n",
    "\n",
    "Point(x=1254, y=1006) enviar\n"
   ]
  },
  {
   "cell_type": "code",
   "execution_count": 1,
   "id": "b026207f",
   "metadata": {},
   "outputs": [
    {
     "ename": "NameError",
     "evalue": "name 'ticker' is not defined",
     "output_type": "error",
     "traceback": [
      "\u001b[31m---------------------------------------------------------------------------\u001b[39m",
      "\u001b[31mNameError\u001b[39m                                 Traceback (most recent call last)",
      "\u001b[36mCell\u001b[39m\u001b[36m \u001b[39m\u001b[32mIn[1]\u001b[39m\u001b[32m, line 11\u001b[39m\n\u001b[32m      5\u001b[39m destinatario = \u001b[33m\"\u001b[39m\u001b[33mtheteachercirope@gmail.com\u001b[39m\u001b[33m\"\u001b[39m\n\u001b[32m      6\u001b[39m asunto = \u001b[33m\"\u001b[39m\u001b[33mProyecto de análisis 2025\u001b[39m\u001b[33m\"\u001b[39m\n\u001b[32m      8\u001b[39m mensaje = \u001b[33mf\u001b[39m\u001b[33m\"\"\"\u001b[39m\n\u001b[32m      9\u001b[39m \u001b[33mBuen día,\u001b[39m\n\u001b[32m     10\u001b[39m \n\u001b[32m---> \u001b[39m\u001b[32m11\u001b[39m \u001b[33mA continuación se presenta el análisis de la acción \u001b[39m\u001b[38;5;132;01m{\u001b[39;00m\u001b[43mticker\u001b[49m\u001b[38;5;132;01m}\u001b[39;00m\u001b[33m del periodo\u001b[39m\n\u001b[32m     12\u001b[39m \u001b[33msolicitado: \u001b[39m\u001b[38;5;132;01m{\u001b[39;00mfecha_inicio\u001b[38;5;132;01m}\u001b[39;00m\u001b[33m a \u001b[39m\u001b[38;5;132;01m{\u001b[39;00mfecha_cierre\u001b[38;5;132;01m}\u001b[39;00m\u001b[33m:\u001b[39m\n\u001b[32m     13\u001b[39m \n\u001b[32m     14\u001b[39m \u001b[33mCotización máxima: USD \u001b[39m\u001b[38;5;132;01m{\u001b[39;00mmaxima\u001b[38;5;132;01m}\u001b[39;00m\n\u001b[32m     15\u001b[39m \u001b[33mCotización mínima: USD \u001b[39m\u001b[38;5;132;01m{\u001b[39;00mminima\u001b[38;5;132;01m}\u001b[39;00m\n\u001b[32m     16\u001b[39m \u001b[33mValor medio: USD \u001b[39m\u001b[38;5;132;01m{\u001b[39;00mpromedio\u001b[38;5;132;01m}\u001b[39;00m\n\u001b[32m     17\u001b[39m \n\u001b[32m     18\u001b[39m \u001b[33m\"\"\"\u001b[39m\n\u001b[32m     20\u001b[39m pyautogui.PAUSE = \u001b[32m3\u001b[39m\n\u001b[32m     22\u001b[39m \u001b[38;5;66;03m# Abrir el navegador\u001b[39;00m\n",
      "\u001b[31mNameError\u001b[39m: name 'ticker' is not defined"
     ]
    }
   ],
   "source": [
    "import pyperclip\n",
    "import webbrowser\n",
    "from time import sleep\n",
    "\n",
    "destinatario = \"theteachercirope@gmail.com\"\n",
    "asunto = \"Proyecto de análisis 2025\"\n",
    "\n",
    "mensaje = f\"\"\"\n",
    "Buen día,\n",
    "\n",
    "A continuación se presenta el análisis de la acción {ticker} del periodo\n",
    "solicitado: {fecha_inicio} a {fecha_cierre}:\n",
    "\n",
    "Cotización máxima: USD {maxima}\n",
    "Cotización mínima: USD {minima}\n",
    "Valor medio: USD {promedio}\n",
    "\n",
    "\"\"\"\n",
    "\n",
    "pyautogui.PAUSE = 3\n",
    "\n",
    "# Abrir el navegador\n",
    "webbrowser.open(\"https://mail.google.com/mail/u/0/#inbox\")\n",
    "sleep(3)\n",
    "\n",
    "# hacer click en redactar\n",
    "\n",
    "pyautogui.click(87, 217)\n",
    "\n",
    "# escribir destinatario\n",
    "pyperclip.copy(destinatario)\n",
    "pyautogui.hotkey(\"ctrl\", \"v\")\n",
    "\n",
    "# escribir asunto\n",
    "pyautogui.hotkey(\"tab\")\n",
    "pyperclip.copy(asunto)\n",
    "pyautogui.hotkey(\"ctrl\", \"v\")\n",
    "\n",
    "# escribir mensaje\n",
    "pyautogui.hotkey(\"tab\")\n",
    "pyperclip.copy(mensaje)\n",
    "pyautogui.hotkey(\"ctrl\", \"v\")\n",
    "\n",
    "# enviar\n",
    "pyautogui.click(1254, 1006)\n",
    "\n",
    "# cerrar la pestaña\n",
    "pyautogui.hotkey(\"ctrl\", \"w\")\n",
    "\n",
    "# mensaje de confirmación de envío\n",
    "print(\"¡¡¡Mensaje enviado con éxito!!!\")"
   ]
  }
 ],
 "metadata": {
  "kernelspec": {
   "display_name": "Python 3",
   "language": "python",
   "name": "python3"
  },
  "language_info": {
   "codemirror_mode": {
    "name": "ipython",
    "version": 3
   },
   "file_extension": ".py",
   "mimetype": "text/x-python",
   "name": "python",
   "nbconvert_exporter": "python",
   "pygments_lexer": "ipython3",
   "version": "3.12.3"
  }
 },
 "nbformat": 4,
 "nbformat_minor": 5
}
