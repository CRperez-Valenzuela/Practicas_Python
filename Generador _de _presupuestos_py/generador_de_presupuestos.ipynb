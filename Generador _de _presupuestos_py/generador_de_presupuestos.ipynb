{
 "cells": [
  {
   "cell_type": "markdown",
   "id": "0f433c88",
   "metadata": {},
   "source": [
    "# # Presupuesto"
   ]
  },
  {
   "cell_type": "markdown",
   "id": "9ed30696",
   "metadata": {},
   "source": [
    "solicitud de ingreso de valores\n"
   ]
  },
  {
   "cell_type": "code",
   "execution_count": 3,
   "id": "9d443c21",
   "metadata": {},
   "outputs": [],
   "source": [
    "proyecto = input(\"Digita el nombre del proyecto: \")\n",
    "horas_estimadas = input(\"Digita el número de horas estimadas: \")\n",
    "valor_hora = input(\"Digita el valor de la hora: \")\n",
    "termino = input(\"Digita el término del proyecto: \")"
   ]
  },
  {
   "cell_type": "markdown",
   "id": "fe25b6b5",
   "metadata": {},
   "source": [
    "check de variables con data"
   ]
  },
  {
   "cell_type": "code",
   "execution_count": 5,
   "id": "28be3faf",
   "metadata": {},
   "outputs": [
    {
     "name": "stdout",
     "output_type": "stream",
     "text": [
      "Mi primer presupuesto\n",
      "120\n",
      "80\n",
      "2 meses\n"
     ]
    }
   ],
   "source": [
    "print (proyecto)\n",
    "print (horas_estimadas)\n",
    "print (valor_hora)\n",
    "print (termino)"
   ]
  },
  {
   "cell_type": "markdown",
   "id": "de911446",
   "metadata": {},
   "source": [
    "cálculo de valor de horas"
   ]
  },
  {
   "cell_type": "code",
   "execution_count": 6,
   "id": "e54972f8",
   "metadata": {},
   "outputs": [
    {
     "name": "stdout",
     "output_type": "stream",
     "text": [
      "9600\n"
     ]
    }
   ],
   "source": [
    "valor_total = int(horas_estimadas) * int(valor_hora)\n",
    "print (valor_total)"
   ]
  },
  {
   "cell_type": "markdown",
   "id": "9d2277c6",
   "metadata": {},
   "source": [
    "importar biblioteca de pdf\n"
   ]
  },
  {
   "cell_type": "code",
   "execution_count": 7,
   "id": "d3101018",
   "metadata": {},
   "outputs": [],
   "source": [
    "from fpdf import FPDF"
   ]
  },
  {
   "cell_type": "markdown",
   "id": "06cdb39c",
   "metadata": {},
   "source": [
    "armado pdf a generar. Se maneja por eje cartesiano para ubicar posición de los textos o imágenes a usar en el pdf generado"
   ]
  },
  {
   "cell_type": "markdown",
   "id": "c4e03a61",
   "metadata": {},
   "source": [
    "primero se añade una pagina en blanco con add_page, luego se le asigna la fuente a usar con set_font"
   ]
  },
  {
   "cell_type": "code",
   "execution_count": 13,
   "id": "ecc86e2a",
   "metadata": {},
   "outputs": [],
   "source": [
    "pdf = FPDF()\n",
    "pdf.add_page()\n",
    "pdf.set_font(\"Arial\")\n"
   ]
  },
  {
   "cell_type": "markdown",
   "id": "6c58a6dd",
   "metadata": {},
   "source": [
    "para añadir el template del ejemplo se debe asignar con "
   ]
  },
  {
   "cell_type": "code",
   "execution_count": 14,
   "id": "e257f335",
   "metadata": {},
   "outputs": [],
   "source": [
    "pdf.image(\"Template.png\", 0, 0)"
   ]
  },
  {
   "cell_type": "markdown",
   "id": "3e21863e",
   "metadata": {},
   "source": [
    "se añaden las variables con .text(coord x, coord y, variable)"
   ]
  },
  {
   "cell_type": "code",
   "execution_count": 16,
   "id": "d153a624",
   "metadata": {},
   "outputs": [],
   "source": [
    "pdf.text(115, 145, proyecto)\n",
    "pdf.text(115, 160, horas_estimadas)\n",
    "pdf.text(115, 175, valor_hora)\n",
    "pdf.text(115, 190, termino)\n",
    "pdf.text (115, 205, str(valor_total))"
   ]
  },
  {
   "cell_type": "code",
   "execution_count": 18,
   "id": "cc4dffe2",
   "metadata": {},
   "outputs": [
    {
     "name": "stdout",
     "output_type": "stream",
     "text": [
      "¡¡¡Presupuesto generado con Éxito!!!\n"
     ]
    }
   ],
   "source": [
    "pdf.output(proyecto + \".pdf\")\n",
    "print (\"¡¡¡Presupuesto generado con Éxito!!!\")"
   ]
  },
  {
   "cell_type": "code",
   "execution_count": null,
   "id": "0527a61a",
   "metadata": {},
   "outputs": [
    {
     "name": "stdout",
     "output_type": "stream",
     "text": [
      "<class 'fpdf.fpdf.FPDF'>\n"
     ]
    }
   ],
   "source": []
  }
 ],
 "metadata": {
  "kernelspec": {
   "display_name": "Python 3",
   "language": "python",
   "name": "python3"
  },
  "language_info": {
   "codemirror_mode": {
    "name": "ipython",
    "version": 3
   },
   "file_extension": ".py",
   "mimetype": "text/x-python",
   "name": "python",
   "nbconvert_exporter": "python",
   "pygments_lexer": "ipython3",
   "version": "3.12.3"
  }
 },
 "nbformat": 4,
 "nbformat_minor": 5
}
